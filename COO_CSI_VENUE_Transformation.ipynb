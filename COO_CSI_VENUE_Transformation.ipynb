{
 "cells": [
  {
   "cell_type": "code",
   "execution_count": 46,
   "id": "ee70288b",
   "metadata": {},
   "outputs": [
    {
     "name": "stdout",
     "output_type": "stream",
     "text": [
      "Defaulting to user installation because normal site-packages is not writeable\n",
      "Requirement already satisfied: deep_translator in c:\\users\\nvive\\appdata\\roaming\\python\\python39\\site-packages (1.11.4)\n",
      "Requirement already satisfied: requests<3.0.0,>=2.23.0 in c:\\programdata\\anaconda3\\lib\\site-packages (from deep_translator) (2.28.1)\n",
      "Requirement already satisfied: beautifulsoup4<5.0.0,>=4.9.1 in c:\\programdata\\anaconda3\\lib\\site-packages (from deep_translator) (4.11.1)\n",
      "Requirement already satisfied: soupsieve>1.2 in c:\\programdata\\anaconda3\\lib\\site-packages (from beautifulsoup4<5.0.0,>=4.9.1->deep_translator) (2.3.1)\n",
      "Requirement already satisfied: charset-normalizer<3,>=2 in c:\\programdata\\anaconda3\\lib\\site-packages (from requests<3.0.0,>=2.23.0->deep_translator) (2.0.4)\n",
      "Requirement already satisfied: idna<4,>=2.5 in c:\\programdata\\anaconda3\\lib\\site-packages (from requests<3.0.0,>=2.23.0->deep_translator) (3.3)\n",
      "Requirement already satisfied: urllib3<1.27,>=1.21.1 in c:\\programdata\\anaconda3\\lib\\site-packages (from requests<3.0.0,>=2.23.0->deep_translator) (1.26.11)\n",
      "Requirement already satisfied: certifi>=2017.4.17 in c:\\programdata\\anaconda3\\lib\\site-packages (from requests<3.0.0,>=2.23.0->deep_translator) (2022.9.14)\n"
     ]
    }
   ],
   "source": [
    "# import and install required libraries\n",
    "!pip install deep_translator\n",
    "\n",
    "import pandas as pd\n",
    "import numpy as np\n",
    "import time\n",
    "import os\n",
    "import datetime\n",
    "from deep_translator import GoogleTranslator"
   ]
  },
  {
   "cell_type": "code",
   "execution_count": 2,
   "id": "3d2103f4",
   "metadata": {},
   "outputs": [],
   "source": [
    "googledf = pd.read_csv(r'ScrapingExtract\\COO_CSI_venue.csv')"
   ]
  },
  {
   "cell_type": "markdown",
   "id": "9cb3d873",
   "metadata": {},
   "source": [
    "### Merging sub-categories"
   ]
  },
  {
   "cell_type": "code",
   "execution_count": 4,
   "id": "e716fd9a",
   "metadata": {},
   "outputs": [],
   "source": [
    "merged_rows = googledf.groupby(['NAME', 'CATEGORY', 'LATITUDE', 'LONGITUDE','POSTAL_CODE', 'ADDRESS', 'CITY', \n",
    "                                'PROVINCE', 'COUNTRY','ACTIVE', 'WEBSITE', 'PHONE']\n",
    "                               ,as_index=False,dropna=False).agg({'TAGS': 'first','SUB_CATEGORY': ', '.join})"
   ]
  },
  {
   "cell_type": "code",
   "execution_count": 5,
   "id": "ec61e131",
   "metadata": {},
   "outputs": [],
   "source": [
    "columns = ['NAME', 'CATEGORY', 'SUB_CATEGORY', 'TAGS', 'LATITUDE', 'LONGITUDE',\n",
    "       'POSTAL_CODE', 'ADDRESS', 'CITY', 'PROVINCE', 'COUNTRY',\n",
    "       'ACTIVE', 'WEBSITE', 'PHONE']\n",
    "merged_rows = merged_rows[columns]"
   ]
  },
  {
   "cell_type": "code",
   "execution_count": 6,
   "id": "643e017d",
   "metadata": {},
   "outputs": [],
   "source": [
    "googledf = merged_rows"
   ]
  },
  {
   "cell_type": "code",
   "execution_count": 7,
   "id": "0b71b844",
   "metadata": {},
   "outputs": [],
   "source": [
    "columns = ['NAME', 'CATEGORY', 'SUB_CATEGORY', 'TAGS', 'LATITUDE', 'LONGITUDE', 'POSTAL_CODE', 'ADDRESS', 'CITY', 'PROVINCE',\n",
    "           'COUNTRY', 'ACTIVE', 'WEBSITE', 'PHONE']\n",
    "googledf = googledf[columns]"
   ]
  },
  {
   "cell_type": "markdown",
   "id": "4364a537",
   "metadata": {},
   "source": [
    "### Data Imputation"
   ]
  },
  {
   "cell_type": "code",
   "execution_count": 12,
   "id": "8f97ae59",
   "metadata": {},
   "outputs": [],
   "source": [
    "googledf['ACTIVE'].fillna(\"OPERATIONAL\",inplace=True)"
   ]
  },
  {
   "cell_type": "code",
   "execution_count": 14,
   "id": "b5b9272d",
   "metadata": {},
   "outputs": [],
   "source": [
    "googledf[\"PROVINCE\"] = googledf[\"PROVINCE\"].apply(lambda x: x.replace(\"Ontario\", \"ON\"))"
   ]
  },
  {
   "cell_type": "code",
   "execution_count": 15,
   "id": "750bce65",
   "metadata": {},
   "outputs": [],
   "source": [
    "googledf[\"PROVINCE\"] = googledf[\"PROVINCE\"].apply(lambda x: x.replace(\"Québec\", \"QC\"))"
   ]
  },
  {
   "cell_type": "code",
   "execution_count": 16,
   "id": "70c8603b",
   "metadata": {},
   "outputs": [],
   "source": [
    "googledf[\"PROVINCE\"] = googledf[\"PROVINCE\"].apply(lambda x: x.replace(\"Quebec\", \"QC\"))"
   ]
  },
  {
   "cell_type": "code",
   "execution_count": 17,
   "id": "ea366376",
   "metadata": {},
   "outputs": [],
   "source": [
    "googledf[\"PROVINCE\"] = googledf[\"PROVINCE\"].apply(lambda x: x.replace(\"New York\", \"NY\"))"
   ]
  },
  {
   "cell_type": "code",
   "execution_count": 18,
   "id": "b1abc0bd",
   "metadata": {},
   "outputs": [],
   "source": [
    "googledf[\"ACTIVE\"] = googledf[\"ACTIVE\"].apply(lambda x: x.replace(\"OPERATIONAL\", \"Yes\"))"
   ]
  },
  {
   "cell_type": "code",
   "execution_count": 19,
   "id": "00c1bf86",
   "metadata": {},
   "outputs": [],
   "source": [
    "googledf[\"ACTIVE\"] = googledf[\"ACTIVE\"].apply(lambda x: x.replace(\"CLOSED_TEMPORARILY\", \"No\"))"
   ]
  },
  {
   "cell_type": "code",
   "execution_count": 20,
   "id": "18df6474",
   "metadata": {},
   "outputs": [],
   "source": [
    "googledf[\"ACTIVE\"] = googledf[\"ACTIVE\"].apply(lambda x: x.replace(\"CLOSED_PERMANENTLY\", \"No\"))"
   ]
  },
  {
   "cell_type": "markdown",
   "id": "304993b1",
   "metadata": {},
   "source": [
    "### Removing city from Address"
   ]
  },
  {
   "cell_type": "code",
   "execution_count": 22,
   "id": "10646c20",
   "metadata": {},
   "outputs": [
    {
     "data": {
      "text/html": [
       "<div>\n",
       "<style scoped>\n",
       "    .dataframe tbody tr th:only-of-type {\n",
       "        vertical-align: middle;\n",
       "    }\n",
       "\n",
       "    .dataframe tbody tr th {\n",
       "        vertical-align: top;\n",
       "    }\n",
       "\n",
       "    .dataframe thead th {\n",
       "        text-align: right;\n",
       "    }\n",
       "</style>\n",
       "<table border=\"1\" class=\"dataframe\">\n",
       "  <thead>\n",
       "    <tr style=\"text-align: right;\">\n",
       "      <th></th>\n",
       "      <th>NAME</th>\n",
       "      <th>CATEGORY</th>\n",
       "      <th>SUB_CATEGORY</th>\n",
       "      <th>TAGS</th>\n",
       "      <th>LATITUDE</th>\n",
       "      <th>LONGITUDE</th>\n",
       "      <th>POSTAL_CODE</th>\n",
       "      <th>ADDRESS</th>\n",
       "      <th>CITY</th>\n",
       "      <th>PROVINCE</th>\n",
       "      <th>COUNTRY</th>\n",
       "      <th>ACTIVE</th>\n",
       "      <th>WEBSITE</th>\n",
       "      <th>PHONE</th>\n",
       "    </tr>\n",
       "  </thead>\n",
       "  <tbody>\n",
       "  </tbody>\n",
       "</table>\n",
       "</div>"
      ],
      "text/plain": [
       "Empty DataFrame\n",
       "Columns: [NAME, CATEGORY, SUB_CATEGORY, TAGS, LATITUDE, LONGITUDE, POSTAL_CODE, ADDRESS, CITY, PROVINCE, COUNTRY, ACTIVE, WEBSITE, PHONE]\n",
       "Index: []"
      ]
     },
     "execution_count": 22,
     "metadata": {},
     "output_type": "execute_result"
    }
   ],
   "source": [
    "googledf[googledf[\"ADDRESS\"].str.count(\",\")>=2]"
   ]
  },
  {
   "cell_type": "code",
   "execution_count": 23,
   "id": "94acac6c",
   "metadata": {},
   "outputs": [],
   "source": [
    "# Removing city from address\n",
    "\n",
    "for index, row in googledf.iterrows():\n",
    "    address = row['ADDRESS']\n",
    "    updated_address = address.rsplit(\",\", 1)[0].strip()\n",
    "    googledf.at[index, 'ADDRESS'] = updated_address"
   ]
  },
  {
   "cell_type": "markdown",
   "id": "692aebb7",
   "metadata": {},
   "source": [
    "### Address Translation"
   ]
  },
  {
   "cell_type": "code",
   "execution_count": 26,
   "id": "aee2b4aa",
   "metadata": {},
   "outputs": [],
   "source": [
    "fr_googledf = googledf[['ADDRESS']].copy()"
   ]
  },
  {
   "cell_type": "code",
   "execution_count": 28,
   "id": "c64c7410",
   "metadata": {},
   "outputs": [],
   "source": [
    "translations = {}\n",
    "for column in fr_googledf.columns:\n",
    "    # unique elements of the column\n",
    "    unique_elements = fr_googledf[column].unique()\n",
    "    for element in unique_elements:\n",
    "        # add translation to the dictionary\n",
    "        translations[element] = GoogleTranslator(source='auto', target='fr').translate(element)\n",
    "        time.sleep(1)"
   ]
  },
  {
   "cell_type": "code",
   "execution_count": 29,
   "id": "7feca4fa",
   "metadata": {},
   "outputs": [],
   "source": [
    "fr_googledf.replace(translations, inplace = True)"
   ]
  },
  {
   "cell_type": "code",
   "execution_count": 31,
   "id": "81e8b01f",
   "metadata": {},
   "outputs": [],
   "source": [
    "fr_googledf.rename(columns=lambda x: GoogleTranslator(source='auto', target='fr').translate(x), inplace=True)"
   ]
  },
  {
   "cell_type": "code",
   "execution_count": 33,
   "id": "133833b3",
   "metadata": {},
   "outputs": [
    {
     "data": {
      "text/html": [
       "<div>\n",
       "<style scoped>\n",
       "    .dataframe tbody tr th:only-of-type {\n",
       "        vertical-align: middle;\n",
       "    }\n",
       "\n",
       "    .dataframe tbody tr th {\n",
       "        vertical-align: top;\n",
       "    }\n",
       "\n",
       "    .dataframe thead th {\n",
       "        text-align: right;\n",
       "    }\n",
       "</style>\n",
       "<table border=\"1\" class=\"dataframe\">\n",
       "  <thead>\n",
       "    <tr style=\"text-align: right;\">\n",
       "      <th></th>\n",
       "      <th>NAME</th>\n",
       "      <th>CATEGORY</th>\n",
       "      <th>SUB_CATEGORY</th>\n",
       "      <th>TAGS</th>\n",
       "      <th>LATITUDE</th>\n",
       "      <th>LONGITUDE</th>\n",
       "      <th>POSTAL_CODE</th>\n",
       "      <th>ADDRESS</th>\n",
       "      <th>CITY</th>\n",
       "      <th>PROVINCE</th>\n",
       "      <th>COUNTRY</th>\n",
       "      <th>ACTIVE</th>\n",
       "      <th>WEBSITE</th>\n",
       "      <th>PHONE</th>\n",
       "      <th>ADRESSE</th>\n",
       "    </tr>\n",
       "  </thead>\n",
       "  <tbody>\n",
       "    <tr>\n",
       "      <th>0</th>\n",
       "      <td>Canadian Sport Martial Arts Academy - CSMA Bar...</td>\n",
       "      <td>venue</td>\n",
       "      <td>arts, martial arts</td>\n",
       "      <td>point_of_interest, health, establishment</td>\n",
       "      <td>45.260385</td>\n",
       "      <td>-75.768416</td>\n",
       "      <td>K2J 0V2</td>\n",
       "      <td>4100 Strandherd Dr Suite 213</td>\n",
       "      <td>Ottawa</td>\n",
       "      <td>ON</td>\n",
       "      <td>Canada</td>\n",
       "      <td>Yes</td>\n",
       "      <td>http://www.csma.ca/</td>\n",
       "      <td>(613) 831-8085</td>\n",
       "      <td>4100 promenade Strandherd Suite 213</td>\n",
       "    </tr>\n",
       "    <tr>\n",
       "      <th>1</th>\n",
       "      <td>Clarke Fields Park</td>\n",
       "      <td>venue</td>\n",
       "      <td>parks</td>\n",
       "      <td>park, tourist_attraction, point_of_interest, e...</td>\n",
       "      <td>45.261994</td>\n",
       "      <td>-75.768682</td>\n",
       "      <td>K2J</td>\n",
       "      <td>93 Houlahan St</td>\n",
       "      <td>Ottawa</td>\n",
       "      <td>ON</td>\n",
       "      <td>Canada</td>\n",
       "      <td>Yes</td>\n",
       "      <td>https://ottawa.ca/en/residents/recreation-and-...</td>\n",
       "      <td>(613) 580-2400</td>\n",
       "      <td>93 rue Houlahan</td>\n",
       "    </tr>\n",
       "    <tr>\n",
       "      <th>2</th>\n",
       "      <td>Dr. Soyoun Kim's Piano Lessons</td>\n",
       "      <td>venue</td>\n",
       "      <td>music</td>\n",
       "      <td>electronics_store, school, home_goods_store, s...</td>\n",
       "      <td>45.251601</td>\n",
       "      <td>-75.758516</td>\n",
       "      <td>K2J 3V5</td>\n",
       "      <td>133 Alamo St</td>\n",
       "      <td>Ottawa</td>\n",
       "      <td>ON</td>\n",
       "      <td>Canada</td>\n",
       "      <td>Yes</td>\n",
       "      <td>NaN</td>\n",
       "      <td>(613) 301-1338</td>\n",
       "      <td>133, rue Alamo</td>\n",
       "    </tr>\n",
       "    <tr>\n",
       "      <th>3</th>\n",
       "      <td>La Bomba</td>\n",
       "      <td>venue</td>\n",
       "      <td>food</td>\n",
       "      <td>meal_takeaway, restaurant, point_of_interest, ...</td>\n",
       "      <td>45.260318</td>\n",
       "      <td>-75.768296</td>\n",
       "      <td>K2J 0V2</td>\n",
       "      <td>4100 Strandherd Dr unit 109</td>\n",
       "      <td>Ottawa</td>\n",
       "      <td>ON</td>\n",
       "      <td>Canada</td>\n",
       "      <td>Yes</td>\n",
       "      <td>NaN</td>\n",
       "      <td>NaN</td>\n",
       "      <td>4100 promenade Strandherd unité 109</td>\n",
       "    </tr>\n",
       "    <tr>\n",
       "      <th>4</th>\n",
       "      <td>Montessori By BrightPath - Strandherd</td>\n",
       "      <td>venue</td>\n",
       "      <td>school</td>\n",
       "      <td>school, point_of_interest, establishment</td>\n",
       "      <td>45.260585</td>\n",
       "      <td>-75.767795</td>\n",
       "      <td>K2J 0V2</td>\n",
       "      <td>4100 Strandherd Dr</td>\n",
       "      <td>Ottawa</td>\n",
       "      <td>ON</td>\n",
       "      <td>Canada</td>\n",
       "      <td>Yes</td>\n",
       "      <td>NaN</td>\n",
       "      <td>(613) 843-4100</td>\n",
       "      <td>4100, promenade Strandherd</td>\n",
       "    </tr>\n",
       "    <tr>\n",
       "      <th>5</th>\n",
       "      <td>Ottawa Christian School</td>\n",
       "      <td>venue</td>\n",
       "      <td>school</td>\n",
       "      <td>primary_school, school, point_of_interest, est...</td>\n",
       "      <td>45.261390</td>\n",
       "      <td>-75.765706</td>\n",
       "      <td>K2J 0V2</td>\n",
       "      <td>255 Tartan Dr</td>\n",
       "      <td>Ottawa</td>\n",
       "      <td>ON</td>\n",
       "      <td>Canada</td>\n",
       "      <td>Yes</td>\n",
       "      <td>http://www.ocschool.org/</td>\n",
       "      <td>(613) 825-3000</td>\n",
       "      <td>255, promenade Tartan</td>\n",
       "    </tr>\n",
       "    <tr>\n",
       "      <th>6</th>\n",
       "      <td>Pinelopi's Greek Kitchen</td>\n",
       "      <td>venue</td>\n",
       "      <td>food, fine dining, pub</td>\n",
       "      <td>restaurant, point_of_interest, food, establish...</td>\n",
       "      <td>45.260318</td>\n",
       "      <td>-75.768296</td>\n",
       "      <td>K2J 0V2</td>\n",
       "      <td>4100 Strandherd Dr #109</td>\n",
       "      <td>Ottawa</td>\n",
       "      <td>ON</td>\n",
       "      <td>Canada</td>\n",
       "      <td>Yes</td>\n",
       "      <td>https://www.pinelopis.com/</td>\n",
       "      <td>(613) 843-1111</td>\n",
       "      <td>4100 promenade Strandherd #109</td>\n",
       "    </tr>\n",
       "    <tr>\n",
       "      <th>7</th>\n",
       "      <td>Sequoia Community Church</td>\n",
       "      <td>venue</td>\n",
       "      <td>place of worship, community, church</td>\n",
       "      <td>church, place_of_worship, point_of_interest, e...</td>\n",
       "      <td>45.261403</td>\n",
       "      <td>-75.765677</td>\n",
       "      <td>K2J 0V2</td>\n",
       "      <td>255 Tartan Dr</td>\n",
       "      <td>Ottawa</td>\n",
       "      <td>ON</td>\n",
       "      <td>Canada</td>\n",
       "      <td>Yes</td>\n",
       "      <td>https://www.sequoiachurch.org/</td>\n",
       "      <td>(613) 224-0700</td>\n",
       "      <td>255, promenade Tartan</td>\n",
       "    </tr>\n",
       "    <tr>\n",
       "      <th>8</th>\n",
       "      <td>South Nepean Satellite Community Health Centre</td>\n",
       "      <td>venue</td>\n",
       "      <td>community</td>\n",
       "      <td>point_of_interest, establishment</td>\n",
       "      <td>45.260521</td>\n",
       "      <td>-75.767829</td>\n",
       "      <td>K2J 0V2</td>\n",
       "      <td>4100 Strandherd Dr</td>\n",
       "      <td>Ottawa</td>\n",
       "      <td>ON</td>\n",
       "      <td>Canada</td>\n",
       "      <td>Yes</td>\n",
       "      <td>NaN</td>\n",
       "      <td>(613) 288-2820</td>\n",
       "      <td>4100, promenade Strandherd</td>\n",
       "    </tr>\n",
       "    <tr>\n",
       "      <th>9</th>\n",
       "      <td>St. Juan Diego School</td>\n",
       "      <td>venue</td>\n",
       "      <td>school</td>\n",
       "      <td>school, point_of_interest, establishment</td>\n",
       "      <td>45.249259</td>\n",
       "      <td>-75.760333</td>\n",
       "      <td>K2J 3V5</td>\n",
       "      <td>135 Main Halyard Ln</td>\n",
       "      <td>Ottawa</td>\n",
       "      <td>ON</td>\n",
       "      <td>Canada</td>\n",
       "      <td>Yes</td>\n",
       "      <td>https://jua.ocsb.ca/</td>\n",
       "      <td>NaN</td>\n",
       "      <td>135 Drisse principale Ln</td>\n",
       "    </tr>\n",
       "    <tr>\n",
       "      <th>10</th>\n",
       "      <td>The Royal Oak - Barrhaven</td>\n",
       "      <td>venue</td>\n",
       "      <td>brunch, karaoke, food, pub</td>\n",
       "      <td>restaurant, bar, food, point_of_interest, esta...</td>\n",
       "      <td>45.259801</td>\n",
       "      <td>-75.767961</td>\n",
       "      <td>K2J 0V2</td>\n",
       "      <td>4110 Strandherd Dr</td>\n",
       "      <td>Ottawa</td>\n",
       "      <td>ON</td>\n",
       "      <td>Canada</td>\n",
       "      <td>Yes</td>\n",
       "      <td>http://www.royaloakpubs.com/</td>\n",
       "      <td>(613) 825-8251</td>\n",
       "      <td>4110, promenade Strandherd</td>\n",
       "    </tr>\n",
       "    <tr>\n",
       "      <th>11</th>\n",
       "      <td>VIVA Barrhaven Retirement Community</td>\n",
       "      <td>venue</td>\n",
       "      <td>community</td>\n",
       "      <td>health, point_of_interest, establishment</td>\n",
       "      <td>45.261025</td>\n",
       "      <td>-75.766932</td>\n",
       "      <td>K2J 3Y7</td>\n",
       "      <td>275 Tartan Dr</td>\n",
       "      <td>Ottawa</td>\n",
       "      <td>ON</td>\n",
       "      <td>Canada</td>\n",
       "      <td>Yes</td>\n",
       "      <td>https://vivalife.ca/vva-barrhaven/</td>\n",
       "      <td>(613) 823-0220</td>\n",
       "      <td>275, promenade Tartan</td>\n",
       "    </tr>\n",
       "  </tbody>\n",
       "</table>\n",
       "</div>"
      ],
      "text/plain": [
       "                                                 NAME CATEGORY  \\\n",
       "0   Canadian Sport Martial Arts Academy - CSMA Bar...    venue   \n",
       "1                                  Clarke Fields Park    venue   \n",
       "2                      Dr. Soyoun Kim's Piano Lessons    venue   \n",
       "3                                            La Bomba    venue   \n",
       "4               Montessori By BrightPath - Strandherd    venue   \n",
       "5                             Ottawa Christian School    venue   \n",
       "6                            Pinelopi's Greek Kitchen    venue   \n",
       "7                            Sequoia Community Church    venue   \n",
       "8      South Nepean Satellite Community Health Centre    venue   \n",
       "9                               St. Juan Diego School    venue   \n",
       "10                          The Royal Oak - Barrhaven    venue   \n",
       "11                VIVA Barrhaven Retirement Community    venue   \n",
       "\n",
       "                           SUB_CATEGORY  \\\n",
       "0                    arts, martial arts   \n",
       "1                                 parks   \n",
       "2                                 music   \n",
       "3                                  food   \n",
       "4                                school   \n",
       "5                                school   \n",
       "6                food, fine dining, pub   \n",
       "7   place of worship, community, church   \n",
       "8                             community   \n",
       "9                                school   \n",
       "10           brunch, karaoke, food, pub   \n",
       "11                            community   \n",
       "\n",
       "                                                 TAGS   LATITUDE  LONGITUDE  \\\n",
       "0            point_of_interest, health, establishment  45.260385 -75.768416   \n",
       "1   park, tourist_attraction, point_of_interest, e...  45.261994 -75.768682   \n",
       "2   electronics_store, school, home_goods_store, s...  45.251601 -75.758516   \n",
       "3   meal_takeaway, restaurant, point_of_interest, ...  45.260318 -75.768296   \n",
       "4            school, point_of_interest, establishment  45.260585 -75.767795   \n",
       "5   primary_school, school, point_of_interest, est...  45.261390 -75.765706   \n",
       "6   restaurant, point_of_interest, food, establish...  45.260318 -75.768296   \n",
       "7   church, place_of_worship, point_of_interest, e...  45.261403 -75.765677   \n",
       "8                    point_of_interest, establishment  45.260521 -75.767829   \n",
       "9            school, point_of_interest, establishment  45.249259 -75.760333   \n",
       "10  restaurant, bar, food, point_of_interest, esta...  45.259801 -75.767961   \n",
       "11           health, point_of_interest, establishment  45.261025 -75.766932   \n",
       "\n",
       "   POSTAL_CODE                       ADDRESS    CITY PROVINCE COUNTRY ACTIVE  \\\n",
       "0      K2J 0V2  4100 Strandherd Dr Suite 213  Ottawa       ON  Canada    Yes   \n",
       "1          K2J                93 Houlahan St  Ottawa       ON  Canada    Yes   \n",
       "2      K2J 3V5                  133 Alamo St  Ottawa       ON  Canada    Yes   \n",
       "3      K2J 0V2   4100 Strandherd Dr unit 109  Ottawa       ON  Canada    Yes   \n",
       "4      K2J 0V2            4100 Strandherd Dr  Ottawa       ON  Canada    Yes   \n",
       "5      K2J 0V2                 255 Tartan Dr  Ottawa       ON  Canada    Yes   \n",
       "6      K2J 0V2       4100 Strandherd Dr #109  Ottawa       ON  Canada    Yes   \n",
       "7      K2J 0V2                 255 Tartan Dr  Ottawa       ON  Canada    Yes   \n",
       "8      K2J 0V2            4100 Strandherd Dr  Ottawa       ON  Canada    Yes   \n",
       "9      K2J 3V5           135 Main Halyard Ln  Ottawa       ON  Canada    Yes   \n",
       "10     K2J 0V2            4110 Strandherd Dr  Ottawa       ON  Canada    Yes   \n",
       "11     K2J 3Y7                 275 Tartan Dr  Ottawa       ON  Canada    Yes   \n",
       "\n",
       "                                              WEBSITE           PHONE  \\\n",
       "0                                 http://www.csma.ca/  (613) 831-8085   \n",
       "1   https://ottawa.ca/en/residents/recreation-and-...  (613) 580-2400   \n",
       "2                                                 NaN  (613) 301-1338   \n",
       "3                                                 NaN             NaN   \n",
       "4                                                 NaN  (613) 843-4100   \n",
       "5                            http://www.ocschool.org/  (613) 825-3000   \n",
       "6                          https://www.pinelopis.com/  (613) 843-1111   \n",
       "7                      https://www.sequoiachurch.org/  (613) 224-0700   \n",
       "8                                                 NaN  (613) 288-2820   \n",
       "9                                https://jua.ocsb.ca/             NaN   \n",
       "10                       http://www.royaloakpubs.com/  (613) 825-8251   \n",
       "11                 https://vivalife.ca/vva-barrhaven/  (613) 823-0220   \n",
       "\n",
       "                                ADRESSE  \n",
       "0   4100 promenade Strandherd Suite 213  \n",
       "1                       93 rue Houlahan  \n",
       "2                        133, rue Alamo  \n",
       "3   4100 promenade Strandherd unité 109  \n",
       "4            4100, promenade Strandherd  \n",
       "5                 255, promenade Tartan  \n",
       "6        4100 promenade Strandherd #109  \n",
       "7                 255, promenade Tartan  \n",
       "8            4100, promenade Strandherd  \n",
       "9              135 Drisse principale Ln  \n",
       "10           4110, promenade Strandherd  \n",
       "11                275, promenade Tartan  "
      ]
     },
     "execution_count": 33,
     "metadata": {},
     "output_type": "execute_result"
    }
   ],
   "source": [
    "final = pd.concat([googledf, fr_googledf], axis=1)"
   ]
  },
  {
   "cell_type": "code",
   "execution_count": 34,
   "id": "ebc698c1",
   "metadata": {},
   "outputs": [],
   "source": [
    "final.rename(columns = {'ADRESSE':'ADDRESS_FR'}, inplace = True)"
   ]
  },
  {
   "cell_type": "code",
   "execution_count": 35,
   "id": "1fc66713",
   "metadata": {},
   "outputs": [],
   "source": [
    "columns = ['NAME', 'CATEGORY', 'SUB_CATEGORY', 'TAGS', 'LATITUDE', 'LONGITUDE',\n",
    "       'POSTAL_CODE', 'ADDRESS', 'ADDRESS_FR', 'CITY', 'PROVINCE', 'COUNTRY',\n",
    "       'ACTIVE', 'WEBSITE', 'PHONE']\n",
    "final = final[columns]"
   ]
  },
  {
   "cell_type": "code",
   "execution_count": 44,
   "id": "705872eb",
   "metadata": {},
   "outputs": [],
   "source": [
    "# Create the folder \"TransformedFinal\" if it doesn't exist\n",
    "if not os.path.exists(\"TransformedFinal\"):\n",
    "    os.makedirs(\"TransformedFinal\")\n",
    "\n",
    "csv_file = os.path.join(\"TransformedFinal\", \"COO_CSI_VENUE_TRANSFORMED\"+datetime.datetime.now().strftime(\"%B_%d_%Y-%I%M%S\")+\".csv\")\n",
    "final.to_csv(csv_file,index=False)"
   ]
  }
 ],
 "metadata": {
  "kernelspec": {
   "display_name": "Python 3 (ipykernel)",
   "language": "python",
   "name": "python3"
  },
  "language_info": {
   "codemirror_mode": {
    "name": "ipython",
    "version": 3
   },
   "file_extension": ".py",
   "mimetype": "text/x-python",
   "name": "python",
   "nbconvert_exporter": "python",
   "pygments_lexer": "ipython3",
   "version": "3.9.13"
  }
 },
 "nbformat": 4,
 "nbformat_minor": 5
}
